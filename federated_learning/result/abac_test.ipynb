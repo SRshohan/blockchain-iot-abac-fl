{
 "cells": [
  {
   "cell_type": "code",
   "execution_count": 23,
   "id": "cd449dc1",
   "metadata": {},
   "outputs": [
    {
     "name": "stdout",
     "output_type": "stream",
     "text": [
      "--- Predefined Simulation Attempt 1/10 ---\n"
     ]
    },
    {
     "name": "stderr",
     "output_type": "stream",
     "text": [
      "/Users/sohanurrahman/Desktop/College/Research_2025/venv/lib/python3.11/site-packages/urllib3/connectionpool.py:1097: InsecureRequestWarning: Unverified HTTPS request is being made to host '7abc-2600-4041-5592-500-cf8b-dcef-644-172f.ngrok-free.app'. Adding certificate verification is strongly advised. See: https://urllib3.readthedocs.io/en/latest/advanced-usage.html#tls-warnings\n",
      "  warnings.warn(\n",
      "/Users/sohanurrahman/Desktop/College/Research_2025/venv/lib/python3.11/site-packages/urllib3/connectionpool.py:1097: InsecureRequestWarning: Unverified HTTPS request is being made to host '7abc-2600-4041-5592-500-cf8b-dcef-644-172f.ngrok-free.app'. Adding certificate verification is strongly advised. See: https://urllib3.readthedocs.io/en/latest/advanced-usage.html#tls-warnings\n",
      "  warnings.warn(\n",
      "/Users/sohanurrahman/Desktop/College/Research_2025/venv/lib/python3.11/site-packages/urllib3/connectionpool.py:1097: InsecureRequestWarning: Unverified HTTPS request is being made to host '7abc-2600-4041-5592-500-cf8b-dcef-644-172f.ngrok-free.app'. Adding certificate verification is strongly advised. See: https://urllib3.readthedocs.io/en/latest/advanced-usage.html#tls-warnings\n",
      "  warnings.warn(\n",
      "/Users/sohanurrahman/Desktop/College/Research_2025/venv/lib/python3.11/site-packages/urllib3/connectionpool.py:1097: InsecureRequestWarning: Unverified HTTPS request is being made to host '7abc-2600-4041-5592-500-cf8b-dcef-644-172f.ngrok-free.app'. Adding certificate verification is strongly advised. See: https://urllib3.readthedocs.io/en/latest/advanced-usage.html#tls-warnings\n",
      "  warnings.warn(\n",
      "/Users/sohanurrahman/Desktop/College/Research_2025/venv/lib/python3.11/site-packages/urllib3/connectionpool.py:1097: InsecureRequestWarning: Unverified HTTPS request is being made to host '7abc-2600-4041-5592-500-cf8b-dcef-644-172f.ngrok-free.app'. Adding certificate verification is strongly advised. See: https://urllib3.readthedocs.io/en/latest/advanced-usage.html#tls-warnings\n",
      "  warnings.warn(\n",
      "/Users/sohanurrahman/Desktop/College/Research_2025/venv/lib/python3.11/site-packages/urllib3/connectionpool.py:1097: InsecureRequestWarning: Unverified HTTPS request is being made to host '7abc-2600-4041-5592-500-cf8b-dcef-644-172f.ngrok-free.app'. Adding certificate verification is strongly advised. See: https://urllib3.readthedocs.io/en/latest/advanced-usage.html#tls-warnings\n",
      "  warnings.warn(\n"
     ]
    },
    {
     "name": "stdout",
     "output_type": "stream",
     "text": [
      "--- Predefined Simulation Attempt 2/10 ---\n"
     ]
    },
    {
     "name": "stderr",
     "output_type": "stream",
     "text": [
      "/Users/sohanurrahman/Desktop/College/Research_2025/venv/lib/python3.11/site-packages/urllib3/connectionpool.py:1097: InsecureRequestWarning: Unverified HTTPS request is being made to host '7abc-2600-4041-5592-500-cf8b-dcef-644-172f.ngrok-free.app'. Adding certificate verification is strongly advised. See: https://urllib3.readthedocs.io/en/latest/advanced-usage.html#tls-warnings\n",
      "  warnings.warn(\n",
      "/Users/sohanurrahman/Desktop/College/Research_2025/venv/lib/python3.11/site-packages/urllib3/connectionpool.py:1097: InsecureRequestWarning: Unverified HTTPS request is being made to host '7abc-2600-4041-5592-500-cf8b-dcef-644-172f.ngrok-free.app'. Adding certificate verification is strongly advised. See: https://urllib3.readthedocs.io/en/latest/advanced-usage.html#tls-warnings\n",
      "  warnings.warn(\n",
      "/Users/sohanurrahman/Desktop/College/Research_2025/venv/lib/python3.11/site-packages/urllib3/connectionpool.py:1097: InsecureRequestWarning: Unverified HTTPS request is being made to host '7abc-2600-4041-5592-500-cf8b-dcef-644-172f.ngrok-free.app'. Adding certificate verification is strongly advised. See: https://urllib3.readthedocs.io/en/latest/advanced-usage.html#tls-warnings\n",
      "  warnings.warn(\n",
      "/Users/sohanurrahman/Desktop/College/Research_2025/venv/lib/python3.11/site-packages/urllib3/connectionpool.py:1097: InsecureRequestWarning: Unverified HTTPS request is being made to host '7abc-2600-4041-5592-500-cf8b-dcef-644-172f.ngrok-free.app'. Adding certificate verification is strongly advised. See: https://urllib3.readthedocs.io/en/latest/advanced-usage.html#tls-warnings\n",
      "  warnings.warn(\n"
     ]
    },
    {
     "name": "stdout",
     "output_type": "stream",
     "text": [
      "--- Predefined Simulation Attempt 3/10 ---\n"
     ]
    },
    {
     "name": "stderr",
     "output_type": "stream",
     "text": [
      "/Users/sohanurrahman/Desktop/College/Research_2025/venv/lib/python3.11/site-packages/urllib3/connectionpool.py:1097: InsecureRequestWarning: Unverified HTTPS request is being made to host '7abc-2600-4041-5592-500-cf8b-dcef-644-172f.ngrok-free.app'. Adding certificate verification is strongly advised. See: https://urllib3.readthedocs.io/en/latest/advanced-usage.html#tls-warnings\n",
      "  warnings.warn(\n",
      "/Users/sohanurrahman/Desktop/College/Research_2025/venv/lib/python3.11/site-packages/urllib3/connectionpool.py:1097: InsecureRequestWarning: Unverified HTTPS request is being made to host '7abc-2600-4041-5592-500-cf8b-dcef-644-172f.ngrok-free.app'. Adding certificate verification is strongly advised. See: https://urllib3.readthedocs.io/en/latest/advanced-usage.html#tls-warnings\n",
      "  warnings.warn(\n",
      "/Users/sohanurrahman/Desktop/College/Research_2025/venv/lib/python3.11/site-packages/urllib3/connectionpool.py:1097: InsecureRequestWarning: Unverified HTTPS request is being made to host '7abc-2600-4041-5592-500-cf8b-dcef-644-172f.ngrok-free.app'. Adding certificate verification is strongly advised. See: https://urllib3.readthedocs.io/en/latest/advanced-usage.html#tls-warnings\n",
      "  warnings.warn(\n",
      "/Users/sohanurrahman/Desktop/College/Research_2025/venv/lib/python3.11/site-packages/urllib3/connectionpool.py:1097: InsecureRequestWarning: Unverified HTTPS request is being made to host '7abc-2600-4041-5592-500-cf8b-dcef-644-172f.ngrok-free.app'. Adding certificate verification is strongly advised. See: https://urllib3.readthedocs.io/en/latest/advanced-usage.html#tls-warnings\n",
      "  warnings.warn(\n",
      "/Users/sohanurrahman/Desktop/College/Research_2025/venv/lib/python3.11/site-packages/urllib3/connectionpool.py:1097: InsecureRequestWarning: Unverified HTTPS request is being made to host '7abc-2600-4041-5592-500-cf8b-dcef-644-172f.ngrok-free.app'. Adding certificate verification is strongly advised. See: https://urllib3.readthedocs.io/en/latest/advanced-usage.html#tls-warnings\n",
      "  warnings.warn(\n",
      "/Users/sohanurrahman/Desktop/College/Research_2025/venv/lib/python3.11/site-packages/urllib3/connectionpool.py:1097: InsecureRequestWarning: Unverified HTTPS request is being made to host '7abc-2600-4041-5592-500-cf8b-dcef-644-172f.ngrok-free.app'. Adding certificate verification is strongly advised. See: https://urllib3.readthedocs.io/en/latest/advanced-usage.html#tls-warnings\n",
      "  warnings.warn(\n"
     ]
    },
    {
     "name": "stdout",
     "output_type": "stream",
     "text": [
      "--- Predefined Simulation Attempt 4/10 ---\n"
     ]
    },
    {
     "name": "stderr",
     "output_type": "stream",
     "text": [
      "/Users/sohanurrahman/Desktop/College/Research_2025/venv/lib/python3.11/site-packages/urllib3/connectionpool.py:1097: InsecureRequestWarning: Unverified HTTPS request is being made to host '7abc-2600-4041-5592-500-cf8b-dcef-644-172f.ngrok-free.app'. Adding certificate verification is strongly advised. See: https://urllib3.readthedocs.io/en/latest/advanced-usage.html#tls-warnings\n",
      "  warnings.warn(\n",
      "/Users/sohanurrahman/Desktop/College/Research_2025/venv/lib/python3.11/site-packages/urllib3/connectionpool.py:1097: InsecureRequestWarning: Unverified HTTPS request is being made to host '7abc-2600-4041-5592-500-cf8b-dcef-644-172f.ngrok-free.app'. Adding certificate verification is strongly advised. See: https://urllib3.readthedocs.io/en/latest/advanced-usage.html#tls-warnings\n",
      "  warnings.warn(\n",
      "/Users/sohanurrahman/Desktop/College/Research_2025/venv/lib/python3.11/site-packages/urllib3/connectionpool.py:1097: InsecureRequestWarning: Unverified HTTPS request is being made to host '7abc-2600-4041-5592-500-cf8b-dcef-644-172f.ngrok-free.app'. Adding certificate verification is strongly advised. See: https://urllib3.readthedocs.io/en/latest/advanced-usage.html#tls-warnings\n",
      "  warnings.warn(\n",
      "/Users/sohanurrahman/Desktop/College/Research_2025/venv/lib/python3.11/site-packages/urllib3/connectionpool.py:1097: InsecureRequestWarning: Unverified HTTPS request is being made to host '7abc-2600-4041-5592-500-cf8b-dcef-644-172f.ngrok-free.app'. Adding certificate verification is strongly advised. See: https://urllib3.readthedocs.io/en/latest/advanced-usage.html#tls-warnings\n",
      "  warnings.warn(\n"
     ]
    },
    {
     "name": "stdout",
     "output_type": "stream",
     "text": [
      "--- Predefined Simulation Attempt 5/10 ---\n"
     ]
    },
    {
     "name": "stderr",
     "output_type": "stream",
     "text": [
      "/Users/sohanurrahman/Desktop/College/Research_2025/venv/lib/python3.11/site-packages/urllib3/connectionpool.py:1097: InsecureRequestWarning: Unverified HTTPS request is being made to host '7abc-2600-4041-5592-500-cf8b-dcef-644-172f.ngrok-free.app'. Adding certificate verification is strongly advised. See: https://urllib3.readthedocs.io/en/latest/advanced-usage.html#tls-warnings\n",
      "  warnings.warn(\n",
      "/Users/sohanurrahman/Desktop/College/Research_2025/venv/lib/python3.11/site-packages/urllib3/connectionpool.py:1097: InsecureRequestWarning: Unverified HTTPS request is being made to host '7abc-2600-4041-5592-500-cf8b-dcef-644-172f.ngrok-free.app'. Adding certificate verification is strongly advised. See: https://urllib3.readthedocs.io/en/latest/advanced-usage.html#tls-warnings\n",
      "  warnings.warn(\n",
      "/Users/sohanurrahman/Desktop/College/Research_2025/venv/lib/python3.11/site-packages/urllib3/connectionpool.py:1097: InsecureRequestWarning: Unverified HTTPS request is being made to host '7abc-2600-4041-5592-500-cf8b-dcef-644-172f.ngrok-free.app'. Adding certificate verification is strongly advised. See: https://urllib3.readthedocs.io/en/latest/advanced-usage.html#tls-warnings\n",
      "  warnings.warn(\n",
      "/Users/sohanurrahman/Desktop/College/Research_2025/venv/lib/python3.11/site-packages/urllib3/connectionpool.py:1097: InsecureRequestWarning: Unverified HTTPS request is being made to host '7abc-2600-4041-5592-500-cf8b-dcef-644-172f.ngrok-free.app'. Adding certificate verification is strongly advised. See: https://urllib3.readthedocs.io/en/latest/advanced-usage.html#tls-warnings\n",
      "  warnings.warn(\n",
      "/Users/sohanurrahman/Desktop/College/Research_2025/venv/lib/python3.11/site-packages/urllib3/connectionpool.py:1097: InsecureRequestWarning: Unverified HTTPS request is being made to host '7abc-2600-4041-5592-500-cf8b-dcef-644-172f.ngrok-free.app'. Adding certificate verification is strongly advised. See: https://urllib3.readthedocs.io/en/latest/advanced-usage.html#tls-warnings\n",
      "  warnings.warn(\n",
      "/Users/sohanurrahman/Desktop/College/Research_2025/venv/lib/python3.11/site-packages/urllib3/connectionpool.py:1097: InsecureRequestWarning: Unverified HTTPS request is being made to host '7abc-2600-4041-5592-500-cf8b-dcef-644-172f.ngrok-free.app'. Adding certificate verification is strongly advised. See: https://urllib3.readthedocs.io/en/latest/advanced-usage.html#tls-warnings\n",
      "  warnings.warn(\n"
     ]
    },
    {
     "name": "stdout",
     "output_type": "stream",
     "text": [
      "--- Predefined Simulation Attempt 6/10 ---\n"
     ]
    },
    {
     "name": "stderr",
     "output_type": "stream",
     "text": [
      "/Users/sohanurrahman/Desktop/College/Research_2025/venv/lib/python3.11/site-packages/urllib3/connectionpool.py:1097: InsecureRequestWarning: Unverified HTTPS request is being made to host '7abc-2600-4041-5592-500-cf8b-dcef-644-172f.ngrok-free.app'. Adding certificate verification is strongly advised. See: https://urllib3.readthedocs.io/en/latest/advanced-usage.html#tls-warnings\n",
      "  warnings.warn(\n",
      "/Users/sohanurrahman/Desktop/College/Research_2025/venv/lib/python3.11/site-packages/urllib3/connectionpool.py:1097: InsecureRequestWarning: Unverified HTTPS request is being made to host '7abc-2600-4041-5592-500-cf8b-dcef-644-172f.ngrok-free.app'. Adding certificate verification is strongly advised. See: https://urllib3.readthedocs.io/en/latest/advanced-usage.html#tls-warnings\n",
      "  warnings.warn(\n",
      "/Users/sohanurrahman/Desktop/College/Research_2025/venv/lib/python3.11/site-packages/urllib3/connectionpool.py:1097: InsecureRequestWarning: Unverified HTTPS request is being made to host '7abc-2600-4041-5592-500-cf8b-dcef-644-172f.ngrok-free.app'. Adding certificate verification is strongly advised. See: https://urllib3.readthedocs.io/en/latest/advanced-usage.html#tls-warnings\n",
      "  warnings.warn(\n",
      "/Users/sohanurrahman/Desktop/College/Research_2025/venv/lib/python3.11/site-packages/urllib3/connectionpool.py:1097: InsecureRequestWarning: Unverified HTTPS request is being made to host '7abc-2600-4041-5592-500-cf8b-dcef-644-172f.ngrok-free.app'. Adding certificate verification is strongly advised. See: https://urllib3.readthedocs.io/en/latest/advanced-usage.html#tls-warnings\n",
      "  warnings.warn(\n"
     ]
    },
    {
     "name": "stdout",
     "output_type": "stream",
     "text": [
      "--- Predefined Simulation Attempt 7/10 ---\n"
     ]
    },
    {
     "name": "stderr",
     "output_type": "stream",
     "text": [
      "/Users/sohanurrahman/Desktop/College/Research_2025/venv/lib/python3.11/site-packages/urllib3/connectionpool.py:1097: InsecureRequestWarning: Unverified HTTPS request is being made to host '7abc-2600-4041-5592-500-cf8b-dcef-644-172f.ngrok-free.app'. Adding certificate verification is strongly advised. See: https://urllib3.readthedocs.io/en/latest/advanced-usage.html#tls-warnings\n",
      "  warnings.warn(\n",
      "/Users/sohanurrahman/Desktop/College/Research_2025/venv/lib/python3.11/site-packages/urllib3/connectionpool.py:1097: InsecureRequestWarning: Unverified HTTPS request is being made to host '7abc-2600-4041-5592-500-cf8b-dcef-644-172f.ngrok-free.app'. Adding certificate verification is strongly advised. See: https://urllib3.readthedocs.io/en/latest/advanced-usage.html#tls-warnings\n",
      "  warnings.warn(\n",
      "/Users/sohanurrahman/Desktop/College/Research_2025/venv/lib/python3.11/site-packages/urllib3/connectionpool.py:1097: InsecureRequestWarning: Unverified HTTPS request is being made to host '7abc-2600-4041-5592-500-cf8b-dcef-644-172f.ngrok-free.app'. Adding certificate verification is strongly advised. See: https://urllib3.readthedocs.io/en/latest/advanced-usage.html#tls-warnings\n",
      "  warnings.warn(\n",
      "/Users/sohanurrahman/Desktop/College/Research_2025/venv/lib/python3.11/site-packages/urllib3/connectionpool.py:1097: InsecureRequestWarning: Unverified HTTPS request is being made to host '7abc-2600-4041-5592-500-cf8b-dcef-644-172f.ngrok-free.app'. Adding certificate verification is strongly advised. See: https://urllib3.readthedocs.io/en/latest/advanced-usage.html#tls-warnings\n",
      "  warnings.warn(\n",
      "/Users/sohanurrahman/Desktop/College/Research_2025/venv/lib/python3.11/site-packages/urllib3/connectionpool.py:1097: InsecureRequestWarning: Unverified HTTPS request is being made to host '7abc-2600-4041-5592-500-cf8b-dcef-644-172f.ngrok-free.app'. Adding certificate verification is strongly advised. See: https://urllib3.readthedocs.io/en/latest/advanced-usage.html#tls-warnings\n",
      "  warnings.warn(\n",
      "/Users/sohanurrahman/Desktop/College/Research_2025/venv/lib/python3.11/site-packages/urllib3/connectionpool.py:1097: InsecureRequestWarning: Unverified HTTPS request is being made to host '7abc-2600-4041-5592-500-cf8b-dcef-644-172f.ngrok-free.app'. Adding certificate verification is strongly advised. See: https://urllib3.readthedocs.io/en/latest/advanced-usage.html#tls-warnings\n",
      "  warnings.warn(\n"
     ]
    },
    {
     "name": "stdout",
     "output_type": "stream",
     "text": [
      "--- Predefined Simulation Attempt 8/10 ---\n"
     ]
    },
    {
     "name": "stderr",
     "output_type": "stream",
     "text": [
      "/Users/sohanurrahman/Desktop/College/Research_2025/venv/lib/python3.11/site-packages/urllib3/connectionpool.py:1097: InsecureRequestWarning: Unverified HTTPS request is being made to host '7abc-2600-4041-5592-500-cf8b-dcef-644-172f.ngrok-free.app'. Adding certificate verification is strongly advised. See: https://urllib3.readthedocs.io/en/latest/advanced-usage.html#tls-warnings\n",
      "  warnings.warn(\n",
      "/Users/sohanurrahman/Desktop/College/Research_2025/venv/lib/python3.11/site-packages/urllib3/connectionpool.py:1097: InsecureRequestWarning: Unverified HTTPS request is being made to host '7abc-2600-4041-5592-500-cf8b-dcef-644-172f.ngrok-free.app'. Adding certificate verification is strongly advised. See: https://urllib3.readthedocs.io/en/latest/advanced-usage.html#tls-warnings\n",
      "  warnings.warn(\n",
      "/Users/sohanurrahman/Desktop/College/Research_2025/venv/lib/python3.11/site-packages/urllib3/connectionpool.py:1097: InsecureRequestWarning: Unverified HTTPS request is being made to host '7abc-2600-4041-5592-500-cf8b-dcef-644-172f.ngrok-free.app'. Adding certificate verification is strongly advised. See: https://urllib3.readthedocs.io/en/latest/advanced-usage.html#tls-warnings\n",
      "  warnings.warn(\n",
      "/Users/sohanurrahman/Desktop/College/Research_2025/venv/lib/python3.11/site-packages/urllib3/connectionpool.py:1097: InsecureRequestWarning: Unverified HTTPS request is being made to host '7abc-2600-4041-5592-500-cf8b-dcef-644-172f.ngrok-free.app'. Adding certificate verification is strongly advised. See: https://urllib3.readthedocs.io/en/latest/advanced-usage.html#tls-warnings\n",
      "  warnings.warn(\n"
     ]
    },
    {
     "name": "stdout",
     "output_type": "stream",
     "text": [
      "--- Predefined Simulation Attempt 9/10 ---\n"
     ]
    },
    {
     "name": "stderr",
     "output_type": "stream",
     "text": [
      "/Users/sohanurrahman/Desktop/College/Research_2025/venv/lib/python3.11/site-packages/urllib3/connectionpool.py:1097: InsecureRequestWarning: Unverified HTTPS request is being made to host '7abc-2600-4041-5592-500-cf8b-dcef-644-172f.ngrok-free.app'. Adding certificate verification is strongly advised. See: https://urllib3.readthedocs.io/en/latest/advanced-usage.html#tls-warnings\n",
      "  warnings.warn(\n",
      "/Users/sohanurrahman/Desktop/College/Research_2025/venv/lib/python3.11/site-packages/urllib3/connectionpool.py:1097: InsecureRequestWarning: Unverified HTTPS request is being made to host '7abc-2600-4041-5592-500-cf8b-dcef-644-172f.ngrok-free.app'. Adding certificate verification is strongly advised. See: https://urllib3.readthedocs.io/en/latest/advanced-usage.html#tls-warnings\n",
      "  warnings.warn(\n",
      "/Users/sohanurrahman/Desktop/College/Research_2025/venv/lib/python3.11/site-packages/urllib3/connectionpool.py:1097: InsecureRequestWarning: Unverified HTTPS request is being made to host '7abc-2600-4041-5592-500-cf8b-dcef-644-172f.ngrok-free.app'. Adding certificate verification is strongly advised. See: https://urllib3.readthedocs.io/en/latest/advanced-usage.html#tls-warnings\n",
      "  warnings.warn(\n",
      "/Users/sohanurrahman/Desktop/College/Research_2025/venv/lib/python3.11/site-packages/urllib3/connectionpool.py:1097: InsecureRequestWarning: Unverified HTTPS request is being made to host '7abc-2600-4041-5592-500-cf8b-dcef-644-172f.ngrok-free.app'. Adding certificate verification is strongly advised. See: https://urllib3.readthedocs.io/en/latest/advanced-usage.html#tls-warnings\n",
      "  warnings.warn(\n",
      "/Users/sohanurrahman/Desktop/College/Research_2025/venv/lib/python3.11/site-packages/urllib3/connectionpool.py:1097: InsecureRequestWarning: Unverified HTTPS request is being made to host '7abc-2600-4041-5592-500-cf8b-dcef-644-172f.ngrok-free.app'. Adding certificate verification is strongly advised. See: https://urllib3.readthedocs.io/en/latest/advanced-usage.html#tls-warnings\n",
      "  warnings.warn(\n",
      "/Users/sohanurrahman/Desktop/College/Research_2025/venv/lib/python3.11/site-packages/urllib3/connectionpool.py:1097: InsecureRequestWarning: Unverified HTTPS request is being made to host '7abc-2600-4041-5592-500-cf8b-dcef-644-172f.ngrok-free.app'. Adding certificate verification is strongly advised. See: https://urllib3.readthedocs.io/en/latest/advanced-usage.html#tls-warnings\n",
      "  warnings.warn(\n"
     ]
    },
    {
     "name": "stdout",
     "output_type": "stream",
     "text": [
      "--- Predefined Simulation Attempt 10/10 ---\n"
     ]
    },
    {
     "name": "stderr",
     "output_type": "stream",
     "text": [
      "/Users/sohanurrahman/Desktop/College/Research_2025/venv/lib/python3.11/site-packages/urllib3/connectionpool.py:1097: InsecureRequestWarning: Unverified HTTPS request is being made to host '7abc-2600-4041-5592-500-cf8b-dcef-644-172f.ngrok-free.app'. Adding certificate verification is strongly advised. See: https://urllib3.readthedocs.io/en/latest/advanced-usage.html#tls-warnings\n",
      "  warnings.warn(\n",
      "/Users/sohanurrahman/Desktop/College/Research_2025/venv/lib/python3.11/site-packages/urllib3/connectionpool.py:1097: InsecureRequestWarning: Unverified HTTPS request is being made to host '7abc-2600-4041-5592-500-cf8b-dcef-644-172f.ngrok-free.app'. Adding certificate verification is strongly advised. See: https://urllib3.readthedocs.io/en/latest/advanced-usage.html#tls-warnings\n",
      "  warnings.warn(\n",
      "/Users/sohanurrahman/Desktop/College/Research_2025/venv/lib/python3.11/site-packages/urllib3/connectionpool.py:1097: InsecureRequestWarning: Unverified HTTPS request is being made to host '7abc-2600-4041-5592-500-cf8b-dcef-644-172f.ngrok-free.app'. Adding certificate verification is strongly advised. See: https://urllib3.readthedocs.io/en/latest/advanced-usage.html#tls-warnings\n",
      "  warnings.warn(\n",
      "/Users/sohanurrahman/Desktop/College/Research_2025/venv/lib/python3.11/site-packages/urllib3/connectionpool.py:1097: InsecureRequestWarning: Unverified HTTPS request is being made to host '7abc-2600-4041-5592-500-cf8b-dcef-644-172f.ngrok-free.app'. Adding certificate verification is strongly advised. See: https://urllib3.readthedocs.io/en/latest/advanced-usage.html#tls-warnings\n",
      "  warnings.warn(\n"
     ]
    },
    {
     "name": "stdout",
     "output_type": "stream",
     "text": [
      "Predefined simulation complete. Results saved to simulation_results.json\n",
      "--- Running Multiple Attribute Combinations Simulation ---\n"
     ]
    },
    {
     "name": "stderr",
     "output_type": "stream",
     "text": [
      "/Users/sohanurrahman/Desktop/College/Research_2025/venv/lib/python3.11/site-packages/urllib3/connectionpool.py:1097: InsecureRequestWarning: Unverified HTTPS request is being made to host '7abc-2600-4041-5592-500-cf8b-dcef-644-172f.ngrok-free.app'. Adding certificate verification is strongly advised. See: https://urllib3.readthedocs.io/en/latest/advanced-usage.html#tls-warnings\n",
      "  warnings.warn(\n",
      "/Users/sohanurrahman/Desktop/College/Research_2025/venv/lib/python3.11/site-packages/urllib3/connectionpool.py:1097: InsecureRequestWarning: Unverified HTTPS request is being made to host '7abc-2600-4041-5592-500-cf8b-dcef-644-172f.ngrok-free.app'. Adding certificate verification is strongly advised. See: https://urllib3.readthedocs.io/en/latest/advanced-usage.html#tls-warnings\n",
      "  warnings.warn(\n",
      "/Users/sohanurrahman/Desktop/College/Research_2025/venv/lib/python3.11/site-packages/urllib3/connectionpool.py:1097: InsecureRequestWarning: Unverified HTTPS request is being made to host '7abc-2600-4041-5592-500-cf8b-dcef-644-172f.ngrok-free.app'. Adding certificate verification is strongly advised. See: https://urllib3.readthedocs.io/en/latest/advanced-usage.html#tls-warnings\n",
      "  warnings.warn(\n",
      "/Users/sohanurrahman/Desktop/College/Research_2025/venv/lib/python3.11/site-packages/urllib3/connectionpool.py:1097: InsecureRequestWarning: Unverified HTTPS request is being made to host '7abc-2600-4041-5592-500-cf8b-dcef-644-172f.ngrok-free.app'. Adding certificate verification is strongly advised. See: https://urllib3.readthedocs.io/en/latest/advanced-usage.html#tls-warnings\n",
      "  warnings.warn(\n",
      "/Users/sohanurrahman/Desktop/College/Research_2025/venv/lib/python3.11/site-packages/urllib3/connectionpool.py:1097: InsecureRequestWarning: Unverified HTTPS request is being made to host '7abc-2600-4041-5592-500-cf8b-dcef-644-172f.ngrok-free.app'. Adding certificate verification is strongly advised. See: https://urllib3.readthedocs.io/en/latest/advanced-usage.html#tls-warnings\n",
      "  warnings.warn(\n",
      "/Users/sohanurrahman/Desktop/College/Research_2025/venv/lib/python3.11/site-packages/urllib3/connectionpool.py:1097: InsecureRequestWarning: Unverified HTTPS request is being made to host '7abc-2600-4041-5592-500-cf8b-dcef-644-172f.ngrok-free.app'. Adding certificate verification is strongly advised. See: https://urllib3.readthedocs.io/en/latest/advanced-usage.html#tls-warnings\n",
      "  warnings.warn(\n",
      "/Users/sohanurrahman/Desktop/College/Research_2025/venv/lib/python3.11/site-packages/urllib3/connectionpool.py:1097: InsecureRequestWarning: Unverified HTTPS request is being made to host '7abc-2600-4041-5592-500-cf8b-dcef-644-172f.ngrok-free.app'. Adding certificate verification is strongly advised. See: https://urllib3.readthedocs.io/en/latest/advanced-usage.html#tls-warnings\n",
      "  warnings.warn(\n",
      "/Users/sohanurrahman/Desktop/College/Research_2025/venv/lib/python3.11/site-packages/urllib3/connectionpool.py:1097: InsecureRequestWarning: Unverified HTTPS request is being made to host '7abc-2600-4041-5592-500-cf8b-dcef-644-172f.ngrok-free.app'. Adding certificate verification is strongly advised. See: https://urllib3.readthedocs.io/en/latest/advanced-usage.html#tls-warnings\n",
      "  warnings.warn(\n",
      "/Users/sohanurrahman/Desktop/College/Research_2025/venv/lib/python3.11/site-packages/urllib3/connectionpool.py:1097: InsecureRequestWarning: Unverified HTTPS request is being made to host '7abc-2600-4041-5592-500-cf8b-dcef-644-172f.ngrok-free.app'. Adding certificate verification is strongly advised. See: https://urllib3.readthedocs.io/en/latest/advanced-usage.html#tls-warnings\n",
      "  warnings.warn(\n",
      "/Users/sohanurrahman/Desktop/College/Research_2025/venv/lib/python3.11/site-packages/urllib3/connectionpool.py:1097: InsecureRequestWarning: Unverified HTTPS request is being made to host '7abc-2600-4041-5592-500-cf8b-dcef-644-172f.ngrok-free.app'. Adding certificate verification is strongly advised. See: https://urllib3.readthedocs.io/en/latest/advanced-usage.html#tls-warnings\n",
      "  warnings.warn(\n",
      "/Users/sohanurrahman/Desktop/College/Research_2025/venv/lib/python3.11/site-packages/urllib3/connectionpool.py:1097: InsecureRequestWarning: Unverified HTTPS request is being made to host '7abc-2600-4041-5592-500-cf8b-dcef-644-172f.ngrok-free.app'. Adding certificate verification is strongly advised. See: https://urllib3.readthedocs.io/en/latest/advanced-usage.html#tls-warnings\n",
      "  warnings.warn(\n",
      "/Users/sohanurrahman/Desktop/College/Research_2025/venv/lib/python3.11/site-packages/urllib3/connectionpool.py:1097: InsecureRequestWarning: Unverified HTTPS request is being made to host '7abc-2600-4041-5592-500-cf8b-dcef-644-172f.ngrok-free.app'. Adding certificate verification is strongly advised. See: https://urllib3.readthedocs.io/en/latest/advanced-usage.html#tls-warnings\n",
      "  warnings.warn(\n",
      "/Users/sohanurrahman/Desktop/College/Research_2025/venv/lib/python3.11/site-packages/urllib3/connectionpool.py:1097: InsecureRequestWarning: Unverified HTTPS request is being made to host '7abc-2600-4041-5592-500-cf8b-dcef-644-172f.ngrok-free.app'. Adding certificate verification is strongly advised. See: https://urllib3.readthedocs.io/en/latest/advanced-usage.html#tls-warnings\n",
      "  warnings.warn(\n",
      "/Users/sohanurrahman/Desktop/College/Research_2025/venv/lib/python3.11/site-packages/urllib3/connectionpool.py:1097: InsecureRequestWarning: Unverified HTTPS request is being made to host '7abc-2600-4041-5592-500-cf8b-dcef-644-172f.ngrok-free.app'. Adding certificate verification is strongly advised. See: https://urllib3.readthedocs.io/en/latest/advanced-usage.html#tls-warnings\n",
      "  warnings.warn(\n",
      "/Users/sohanurrahman/Desktop/College/Research_2025/venv/lib/python3.11/site-packages/urllib3/connectionpool.py:1097: InsecureRequestWarning: Unverified HTTPS request is being made to host '7abc-2600-4041-5592-500-cf8b-dcef-644-172f.ngrok-free.app'. Adding certificate verification is strongly advised. See: https://urllib3.readthedocs.io/en/latest/advanced-usage.html#tls-warnings\n",
      "  warnings.warn(\n",
      "/Users/sohanurrahman/Desktop/College/Research_2025/venv/lib/python3.11/site-packages/urllib3/connectionpool.py:1097: InsecureRequestWarning: Unverified HTTPS request is being made to host '7abc-2600-4041-5592-500-cf8b-dcef-644-172f.ngrok-free.app'. Adding certificate verification is strongly advised. See: https://urllib3.readthedocs.io/en/latest/advanced-usage.html#tls-warnings\n",
      "  warnings.warn(\n",
      "/Users/sohanurrahman/Desktop/College/Research_2025/venv/lib/python3.11/site-packages/urllib3/connectionpool.py:1097: InsecureRequestWarning: Unverified HTTPS request is being made to host '7abc-2600-4041-5592-500-cf8b-dcef-644-172f.ngrok-free.app'. Adding certificate verification is strongly advised. See: https://urllib3.readthedocs.io/en/latest/advanced-usage.html#tls-warnings\n",
      "  warnings.warn(\n",
      "/Users/sohanurrahman/Desktop/College/Research_2025/venv/lib/python3.11/site-packages/urllib3/connectionpool.py:1097: InsecureRequestWarning: Unverified HTTPS request is being made to host '7abc-2600-4041-5592-500-cf8b-dcef-644-172f.ngrok-free.app'. Adding certificate verification is strongly advised. See: https://urllib3.readthedocs.io/en/latest/advanced-usage.html#tls-warnings\n",
      "  warnings.warn(\n",
      "/Users/sohanurrahman/Desktop/College/Research_2025/venv/lib/python3.11/site-packages/urllib3/connectionpool.py:1097: InsecureRequestWarning: Unverified HTTPS request is being made to host '7abc-2600-4041-5592-500-cf8b-dcef-644-172f.ngrok-free.app'. Adding certificate verification is strongly advised. See: https://urllib3.readthedocs.io/en/latest/advanced-usage.html#tls-warnings\n",
      "  warnings.warn(\n",
      "/Users/sohanurrahman/Desktop/College/Research_2025/venv/lib/python3.11/site-packages/urllib3/connectionpool.py:1097: InsecureRequestWarning: Unverified HTTPS request is being made to host '7abc-2600-4041-5592-500-cf8b-dcef-644-172f.ngrok-free.app'. Adding certificate verification is strongly advised. See: https://urllib3.readthedocs.io/en/latest/advanced-usage.html#tls-warnings\n",
      "  warnings.warn(\n",
      "/Users/sohanurrahman/Desktop/College/Research_2025/venv/lib/python3.11/site-packages/urllib3/connectionpool.py:1097: InsecureRequestWarning: Unverified HTTPS request is being made to host '7abc-2600-4041-5592-500-cf8b-dcef-644-172f.ngrok-free.app'. Adding certificate verification is strongly advised. See: https://urllib3.readthedocs.io/en/latest/advanced-usage.html#tls-warnings\n",
      "  warnings.warn(\n",
      "/Users/sohanurrahman/Desktop/College/Research_2025/venv/lib/python3.11/site-packages/urllib3/connectionpool.py:1097: InsecureRequestWarning: Unverified HTTPS request is being made to host '7abc-2600-4041-5592-500-cf8b-dcef-644-172f.ngrok-free.app'. Adding certificate verification is strongly advised. See: https://urllib3.readthedocs.io/en/latest/advanced-usage.html#tls-warnings\n",
      "  warnings.warn(\n",
      "/Users/sohanurrahman/Desktop/College/Research_2025/venv/lib/python3.11/site-packages/urllib3/connectionpool.py:1097: InsecureRequestWarning: Unverified HTTPS request is being made to host '7abc-2600-4041-5592-500-cf8b-dcef-644-172f.ngrok-free.app'. Adding certificate verification is strongly advised. See: https://urllib3.readthedocs.io/en/latest/advanced-usage.html#tls-warnings\n",
      "  warnings.warn(\n",
      "/Users/sohanurrahman/Desktop/College/Research_2025/venv/lib/python3.11/site-packages/urllib3/connectionpool.py:1097: InsecureRequestWarning: Unverified HTTPS request is being made to host '7abc-2600-4041-5592-500-cf8b-dcef-644-172f.ngrok-free.app'. Adding certificate verification is strongly advised. See: https://urllib3.readthedocs.io/en/latest/advanced-usage.html#tls-warnings\n",
      "  warnings.warn(\n",
      "/Users/sohanurrahman/Desktop/College/Research_2025/venv/lib/python3.11/site-packages/urllib3/connectionpool.py:1097: InsecureRequestWarning: Unverified HTTPS request is being made to host '7abc-2600-4041-5592-500-cf8b-dcef-644-172f.ngrok-free.app'. Adding certificate verification is strongly advised. See: https://urllib3.readthedocs.io/en/latest/advanced-usage.html#tls-warnings\n",
      "  warnings.warn(\n",
      "/Users/sohanurrahman/Desktop/College/Research_2025/venv/lib/python3.11/site-packages/urllib3/connectionpool.py:1097: InsecureRequestWarning: Unverified HTTPS request is being made to host '7abc-2600-4041-5592-500-cf8b-dcef-644-172f.ngrok-free.app'. Adding certificate verification is strongly advised. See: https://urllib3.readthedocs.io/en/latest/advanced-usage.html#tls-warnings\n",
      "  warnings.warn(\n"
     ]
    },
    {
     "name": "stdout",
     "output_type": "stream",
     "text": [
      "Multiple attribute simulation complete. Results saved to simulation_multiple_attributes.json\n"
     ]
    },
    {
     "name": "stderr",
     "output_type": "stream",
     "text": [
      "/Users/sohanurrahman/Desktop/College/Research_2025/venv/lib/python3.11/site-packages/urllib3/connectionpool.py:1097: InsecureRequestWarning: Unverified HTTPS request is being made to host '7abc-2600-4041-5592-500-cf8b-dcef-644-172f.ngrok-free.app'. Adding certificate verification is strongly advised. See: https://urllib3.readthedocs.io/en/latest/advanced-usage.html#tls-warnings\n",
      "  warnings.warn(\n"
     ]
    }
   ],
   "source": [
    "# client_simulation_multiple_attributes.py\n",
    "import requests\n",
    "import numpy as np\n",
    "import json\n",
    "from datetime import datetime\n",
    "\n",
    "# Updated SERVER_URL using your provided ngrok URL.\n",
    "SERVER_URL = \"https://7abc-2600-4041-5592-500-cf8b-dcef-644-172f.ngrok-free.app/ModelTraining\"\n",
    "num_attempts = 10  # Number of attempts per scenario\n",
    "\n",
    "# The valid attributes expected by the server\n",
    "VALID_CLIENT = \"pi_1\"\n",
    "VALID_LOCATION = \"home1\"\n",
    "VALID_STATUS = \"active\"\n",
    "\n",
    "# Results dictionary for the predefined attack scenarios.\n",
    "results = {\n",
    "    \"unauthorized_access\": [],\n",
    "    \"model_poisoning\": {\"legit\": [], \"poison\": []},\n",
    "    \"time_based_violation\": [],\n",
    "    \"location_spoofing\": []\n",
    "}\n",
    "\n",
    "# Results list for multiple attribute combinations.\n",
    "multi_attr_results = []\n",
    "\n",
    "def send_request(payload):\n",
    "    try:\n",
    "        # Note: verify=False is used here because the ngrok URL uses a certificate that might not be verified.\n",
    "        response = requests.post(SERVER_URL, json=payload, verify=False)\n",
    "        return {\n",
    "            \"payload\": payload,\n",
    "            \"status_code\": response.status_code,\n",
    "            \"response\": response.json(),\n",
    "            \"timestamp\": datetime.now().isoformat()\n",
    "        }\n",
    "    except Exception as e:\n",
    "        return {\n",
    "            \"payload\": payload,\n",
    "            \"status_code\": None,\n",
    "            \"response\": str(e),\n",
    "            \"timestamp\": datetime.now().isoformat()\n",
    "        }\n",
    "\n",
    "def test_unauthorized_access():\n",
    "    # For a valid request, the attributes should be:\n",
    "    # client: \"pi_1\", location: \"home1\", status: \"active\"\n",
    "    # Here, we simulate unauthorized access by using an invalid client.\n",
    "    payload = {\n",
    "        \"client\": \"pi_2\",  # Invalid client\n",
    "        \"status\": VALID_STATUS,\n",
    "        \"timestamp\": datetime.now().isoformat(),\n",
    "        \"location\": VALID_LOCATION\n",
    "    }\n",
    "    return send_request(payload)\n",
    "\n",
    "def test_model_poisoning():\n",
    "    # Simulate a legitimate update with random model weights.\n",
    "    legit_update = np.random.rand(10).tolist()\n",
    "    payload_legit = {\n",
    "        \"client\": VALID_CLIENT,\n",
    "        \"status\": VALID_STATUS,\n",
    "        \"update\": legit_update,\n",
    "        \"timestamp\": datetime.now().isoformat(),\n",
    "        \"location\": VALID_LOCATION\n",
    "    }\n",
    "    # Simulate a poisoned update by amplifying the update values.\n",
    "    update = np.random.rand(10).tolist()\n",
    "    poisoned_update = [w * 1.5 for w in update]\n",
    "    payload_poison = {\n",
    "        \"client\": VALID_CLIENT,\n",
    "        \"status\": VALID_STATUS,\n",
    "        \"update\": poisoned_update,\n",
    "        \"timestamp\": datetime.now().isoformat(),\n",
    "        \"location\": VALID_LOCATION\n",
    "    }\n",
    "    legit_resp = send_request(payload_legit)\n",
    "    poison_resp = send_request(payload_poison)\n",
    "    return legit_resp, poison_resp\n",
    "\n",
    "def test_time_based_violation():\n",
    "    # Simulate a time-based violation by setting the timestamp outside the allowed window.\n",
    "    payload = {\n",
    "        \"client\": VALID_CLIENT,\n",
    "        \"status\": VALID_STATUS,\n",
    "        \"timestamp\": datetime.now().replace(hour=3, minute=0, second=0, microsecond=0).isoformat(),\n",
    "        \"location\": VALID_LOCATION\n",
    "    }\n",
    "    return send_request(payload)\n",
    "\n",
    "def test_location_spoofing():\n",
    "    # Simulate location spoofing by using an unauthorized location.\n",
    "    payload = {\n",
    "        \"client\": VALID_CLIENT,\n",
    "        \"status\": VALID_STATUS,\n",
    "        \"timestamp\": datetime.now().isoformat(),\n",
    "        \"location\": \"unauthorized_location\"  # Spoofed location\n",
    "    }\n",
    "    return send_request(payload)\n",
    "\n",
    "def run_predefined_simulations():\n",
    "    for i in range(num_attempts):\n",
    "        print(f\"--- Predefined Simulation Attempt {i+1}/{num_attempts} ---\")\n",
    "\n",
    "        # Unauthorized Access Test\n",
    "        unauthorized_resp = test_unauthorized_access()\n",
    "        results[\"unauthorized_access\"].append(unauthorized_resp)\n",
    "\n",
    "        # Model Poisoning Test\n",
    "        legit_resp, poison_resp = test_model_poisoning()\n",
    "        results[\"model_poisoning\"][\"legit\"].append(legit_resp)\n",
    "        results[\"model_poisoning\"][\"poison\"].append(poison_resp)\n",
    "\n",
    "        # Time-based Violation Test\n",
    "        time_violation_resp = test_time_based_violation()\n",
    "        results[\"time_based_violation\"].append(time_violation_resp)\n",
    "\n",
    "        # Location Spoofing Test\n",
    "        location_spoofing_resp = test_location_spoofing()\n",
    "        results[\"location_spoofing\"].append(location_spoofing_resp)\n",
    "\n",
    "    # Write predefined simulation results to a JSON file.\n",
    "    with open(\"simulation_results.json\", \"w\") as outfile:\n",
    "        json.dump(results, outfile, indent=4)\n",
    "    print(\"Predefined simulation complete. Results saved to simulation_results.json\")\n",
    "\n",
    "def test_multiple_attributes():\n",
    "    # Define multiple attribute values to test combinations.\n",
    "    clients = [VALID_CLIENT, \"pi_2\", \"pi_3\"]\n",
    "    locations = [VALID_LOCATION, \"unauthorized_location\", \"home2\"]\n",
    "    statuses = [VALID_STATUS, \"inactive\", \"error\"]\n",
    "\n",
    "    for client in clients:\n",
    "        for loc in locations:\n",
    "            for stat in statuses:\n",
    "                payload = {\n",
    "                    \"client\": client,\n",
    "                    \"status\": stat,\n",
    "                    \"timestamp\": datetime.now().isoformat(),\n",
    "                    \"location\": loc\n",
    "                }\n",
    "                response = send_request(payload)\n",
    "                multi_attr_results.append({\n",
    "                    \"attributes\": {\"client\": client, \"status\": stat, \"location\": loc},\n",
    "                    \"response\": response\n",
    "                })\n",
    "    return multi_attr_results\n",
    "\n",
    "def run_multiple_attribute_simulation():\n",
    "    print(\"--- Running Multiple Attribute Combinations Simulation ---\")\n",
    "    test_multiple_attributes()\n",
    "    # Write the multiple attribute test results to a separate JSON file.\n",
    "    with open(\"simulation_multiple_attributes.json\", \"w\") as outfile:\n",
    "        json.dump(multi_attr_results, outfile, indent=4)\n",
    "    print(\"Multiple attribute simulation complete. Results saved to simulation_multiple_attributes.json\")\n",
    "\n",
    "if __name__ == \"__main__\":\n",
    "    run_predefined_simulations()\n",
    "    run_multiple_attribute_simulation()\n",
    "\n"
   ]
  },
  {
   "cell_type": "code",
   "execution_count": 24,
   "id": "fe34c30a",
   "metadata": {},
   "outputs": [
    {
     "data": {
      "image/png": "[encoded data removed]",
      "text/plain": [
       "<Figure size 800x600 with 1 Axes>"
      ]
     },
     "metadata": {},
     "output_type": "display_data"
    },
    {
     "data": {
      "image/png": "[encoded data removed]",
      "text/plain": [
       "<Figure size 600x500 with 1 Axes>"
      ]
     },
     "metadata": {},
     "output_type": "display_data"
    }
   ],
   "source": [
    "import json\n",
    "import matplotlib.pyplot as plt\n",
    "\n",
    "def load_json(filename):\n",
    "    with open(filename, \"r\") as f:\n",
    "        return json.load(f)\n",
    "\n",
    "def compute_success_rate(entries):\n",
    "    \"\"\"\n",
    "    Compute the percentage of attempts with status_code == 200.\n",
    "    Modify this function if a different criteria is desired.\n",
    "    \"\"\"\n",
    "    successes = sum(1 for entry in entries if entry.get(\"status_code\") == 200)\n",
    "    total = len(entries)\n",
    "    return (successes / total * 100) if total > 0 else 0\n",
    "\n",
    "# Load simulation results from file.\n",
    "results = load_json(\"simulation_results.json\")\n",
    "\n",
    "# For these scenarios, the results are stored as lists.\n",
    "list_scenarios = [\"unauthorized_access\", \"time_based_violation\", \"location_spoofing\"]\n",
    "\n",
    "list_success_rates = {}\n",
    "for scenario in list_scenarios:\n",
    "    entries = results.get(scenario, [])\n",
    "    rate = compute_success_rate(entries)\n",
    "    list_success_rates[scenario] = rate\n",
    "\n",
    "# Model poisoning results are assumed to be stored in a dict with keys \"legit\" and \"poison\".\n",
    "model_poisoning = results.get(\"model_poisoning\", {})\n",
    "model_poisoning_rates = {}\n",
    "for sub in [\"legit\", \"poison\"]:\n",
    "    entries = model_poisoning.get(sub, [])\n",
    "    model_poisoning_rates[sub] = compute_success_rate(entries)\n",
    "\n",
    "# --- Plotting the results ---\n",
    "\n",
    "# Create a bar chart for the non-model-poisoning scenarios.\n",
    "fig, ax = plt.subplots(figsize=(8, 6))\n",
    "scenarios = list(list_success_rates.keys())\n",
    "rates = [list_success_rates[sc] for sc in scenarios]\n",
    "bars = ax.bar([sc.replace('_', ' ').title() for sc in scenarios], rates, color=\"skyblue\")\n",
    "ax.set_title(\"Success Rate for Simulation Scenarios\")\n",
    "ax.set_ylabel(\"Success Rate (%)\")\n",
    "ax.set_ylim(0, 100)\n",
    "for bar, rate in zip(bars, rates):\n",
    "    ax.text(bar.get_x() + bar.get_width() / 2, rate + 2, f\"{rate:.1f}%\", ha=\"center\", fontsize=12)\n",
    "\n",
    "# Create a separate bar chart for model poisoning results.\n",
    "fig2, ax2 = plt.subplots(figsize=(6, 5))\n",
    "poisoning_categories = list(model_poisoning_rates.keys())\n",
    "poisoning_rates = [model_poisoning_rates[sub] for sub in poisoning_categories]\n",
    "bars2 = ax2.bar([sub.title() for sub in poisoning_categories], poisoning_rates, color=\"salmon\")\n",
    "ax2.set_title(\"Model Poisoning Success Rate\")\n",
    "ax2.set_ylabel(\"Success Rate (%)\")\n",
    "ax2.set_ylim(0, 100)\n",
    "for bar, rate in zip(bars2, poisoning_rates):\n",
    "    ax2.text(bar.get_x() + bar.get_width() / 2, rate + 2, f\"{rate:.1f}%\", ha=\"center\", fontsize=12)\n",
    "\n",
    "plt.tight_layout()\n",
    "plt.show()\n",
    "\n",
    "\n",
    "\n"
   ]
  }
 ],
 "metadata": {
  "kernelspec": {
   "display_name": "venv",
   "language": "python",
   "name": "python3"
  },
  "language_info": {
   "codemirror_mode": {
    "name": "ipython",
    "version": 3
   },
   "file_extension": ".py",
   "mimetype": "text/x-python",
   "name": "python",
   "nbconvert_exporter": "python",
   "pygments_lexer": "ipython3",
   "version": "3.11.6"
  }
 },
 "nbformat": 4,
 "nbformat_minor": 5
}
